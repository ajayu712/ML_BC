{
 "cells": [
  {
   "cell_type": "code",
   "execution_count": 7,
   "metadata": {},
   "outputs": [
    {
     "name": "stdout",
     "output_type": "stream",
     "text": [
      "30\n"
     ]
    }
   ],
   "source": [
    "#WAP to accept two numbers from the user and display their sum\n",
    "a = int(input(\"Enter Number 1: \"))\n",
    "b = int(input(\"Enter Number 2: \"))\n",
    "print(a+b)"
   ]
  },
  {
   "cell_type": "code",
   "execution_count": 8,
   "metadata": {},
   "outputs": [
    {
     "name": "stdout",
     "output_type": "stream",
     "text": [
      "Area of Circle with radius 5.0 is 78.5 and circumference is 31.4\n"
     ]
    }
   ],
   "source": [
    "#WAP to accept radius of a Circle from the user and calculate area and circumference\n",
    "radius = float(input(\"Enter Radius for Calculation: \"))\n",
    "area = 3.14 * (radius**2)\n",
    "circumference = 2 * 3.14 * radius\n",
    "\n",
    "print(\"Area of Circle with radius\",radius,\"is\",round(area,2),\"and circumference is\",round(circumference,2))"
   ]
  },
  {
   "cell_type": "code",
   "execution_count": 9,
   "metadata": {},
   "outputs": [
    {
     "name": "stdout",
     "output_type": "stream",
     "text": [
      "Roll No: 1 has grade A and 80.0 %\n"
     ]
    }
   ],
   "source": [
    "#WAP to accept roll number , grade and percentage as input from the user and display it back\n",
    "roll_no = int(input(\"Enter Your Roll No.: \"))\n",
    "grade = input(\"Enter Your Grade No.: \")\n",
    "percentage = float(input(\"Enter Your Percentage: \"))\n",
    "\n",
    "print(\"Roll No:\",roll_no,\"has grade\",grade,\"and\",percentage,\"%\")"
   ]
  },
  {
   "cell_type": "code",
   "execution_count": 10,
   "metadata": {},
   "outputs": [
    {
     "name": "stdout",
     "output_type": "stream",
     "text": [
      "Ajay Will be 100 Years old in year 2099\n"
     ]
    }
   ],
   "source": [
    "#Write a program that asks the user to enter his/her name and age. Print out a message , displaying the user’s name along with the year in which they will turn 100 years old.\n",
    "userName = input(\"Enter Your Name: \")\n",
    "userAge = int(input(\"Enter Your Age: \"))\n",
    "\n",
    "count = 100 - userAge\n",
    "yearCent = 2022 + count\n",
    "\n",
    "print(userName, \"Will be 100 Years old in year\",yearCent)"
   ]
  },
  {
   "cell_type": "code",
   "execution_count": 11,
   "metadata": {},
   "outputs": [
    {
     "name": "stdout",
     "output_type": "stream",
     "text": [
      "30\n"
     ]
    }
   ],
   "source": [
    "#Write a program that asks the user to input 2 integers and adds them . Accept both the numbers in a single line only\n",
    "num1, num2 = int(input(\"Enter Number 1:\")),  int(input(\"Enter Number 2:\"))\n",
    "sum = num1+num2\n",
    "print(sum)"
   ]
  },
  {
   "cell_type": "code",
   "execution_count": 12,
   "metadata": {},
   "outputs": [
    {
     "name": "stdout",
     "output_type": "stream",
     "text": [
      "ayayhdapU yajA\n"
     ]
    }
   ],
   "source": [
    "#Write a Python program which accepts the user's first and last name and print them in reverse order with a space between them.\n",
    "userFName = input(\"Enter First Name: \")\n",
    "userLName = input(\"Enter Last Name: \")\n",
    "\n",
    "fullName = userFName+\" \"+userLName\n",
    "reversedFullName  = fullName[::-1]\n",
    "print(reversedFullName)"
   ]
  },
  {
   "cell_type": "code",
   "execution_count": null,
   "metadata": {},
   "outputs": [],
   "source": []
  }
 ],
 "metadata": {
  "kernelspec": {
   "display_name": "Python 3",
   "language": "python",
   "name": "python3"
  },
  "language_info": {
   "codemirror_mode": {
    "name": "ipython",
    "version": 3
   },
   "file_extension": ".py",
   "mimetype": "text/x-python",
   "name": "python",
   "nbconvert_exporter": "python",
   "pygments_lexer": "ipython3",
   "version": "3.9.1 (tags/v3.9.1:1e5d33e, Dec  7 2020, 17:08:21) [MSC v.1927 64 bit (AMD64)]"
  },
  "orig_nbformat": 4,
  "vscode": {
   "interpreter": {
    "hash": "7f17c46cf3553b61eeb89052fbf916d1346ae953eb91bc236734ae64b262b896"
   }
  }
 },
 "nbformat": 4,
 "nbformat_minor": 2
}
