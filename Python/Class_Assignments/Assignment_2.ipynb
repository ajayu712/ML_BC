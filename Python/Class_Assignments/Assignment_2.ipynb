{
 "cells": [
  {
   "cell_type": "code",
   "execution_count": 2,
   "metadata": {},
   "outputs": [
    {
     "name": "stdout",
     "output_type": "stream",
     "text": [
      "10 is Even\n"
     ]
    }
   ],
   "source": [
    "#WAP to accept an integer from the user and check whether it is an even or odd \n",
    "num = int(input(\"Enter Number:\"))\n",
    "if num%2==0:\n",
    "    print(\"{} is Even\".format(num))\n",
    "else:\n",
    "    print(\"{} is Odd\".format(num))"
   ]
  },
  {
   "cell_type": "code",
   "execution_count": 3,
   "metadata": {},
   "outputs": [
    {
     "name": "stdout",
     "output_type": "stream",
     "text": [
      "a is Small\n"
     ]
    }
   ],
   "source": [
    "#WAP to accept a character from the user and check whether it is a capital letter or small letter. Assume user will input only alphabets\n",
    "charVal = input(\"Enter Character: \")\n",
    "if charVal == charVal.lower():\n",
    "    print(\"{} is Small\".format(charVal))\n",
    "else:\n",
    "     print(\"{} is Capital\".format(charVal))"
   ]
  },
  {
   "cell_type": "code",
   "execution_count": 12,
   "metadata": {},
   "outputs": [
    {
     "name": "stdout",
     "output_type": "stream",
     "text": [
      "& is SpEcIaL\n"
     ]
    }
   ],
   "source": [
    "#WAP to accept a character from the user and check whether it is a capital letter or small letter or a digit or some special symbol\n",
    "val = input(\"Enter Character: \")\n",
    "if val.isupper():\n",
    "    print(\"{} is CAPITAL\".format(val))\n",
    "elif val.islower():\n",
    "    print(\"{} is small\".format(val))\n",
    "elif val.isdigit():\n",
    "    print(\"{} is Numerical\".format(val))\n",
    "else:\n",
    "    print(\"{} is SpEcIaL\".format(val))"
   ]
  },
  {
   "cell_type": "code",
   "execution_count": 5,
   "metadata": {},
   "outputs": [
    {
     "name": "stdout",
     "output_type": "stream",
     "text": [
      "90\n"
     ]
    }
   ],
   "source": [
    "#WAP to accept 3 integers from the user and without using any logical operator and cascading of relational operators , find out the greatest number amongst them\n",
    "num1 = int(input(\"Enter Number 1: \"))\n",
    "num2 = int(input(\"Enter Number 2: \"))\n",
    "num3 = int(input(\"Enter Number 3: \"))\n",
    "if int(num1/num2) == 0:\n",
    "    if int(num2/num3) == 0:\n",
    "        print(num3)\n",
    "    else:\n",
    "        print(num2)\n",
    "else:\n",
    "    print(num1)"
   ]
  },
  {
   "cell_type": "code",
   "execution_count": 20,
   "metadata": {},
   "outputs": [
    {
     "name": "stdout",
     "output_type": "stream",
     "text": [
      "2012 is a Leap Year\n"
     ]
    }
   ],
   "source": [
    "#WAP to accept a year from the user and check whether it is a leap year or not.\n",
    "year = int(input(\"Enter Year to Validate: \"))\n",
    "if year%4==0 and year%100!=0:\n",
    "    print(\"{} is a Leap Year\".format(year))\n",
    "elif year%400 ==0:\n",
    "    print(\"{} is a Leap Year\".format(year))\n",
    "else:\n",
    "    print(\"{} is NOT a Leap Year\".format(year))"
   ]
  },
  {
   "cell_type": "code",
   "execution_count": 45,
   "metadata": {},
   "outputs": [
    {
     "name": "stdout",
     "output_type": "stream",
     "text": [
      "********************\n",
      "Welcome to NumberGuessEr Game\n",
      "Rules >> Guess the Number between 1-9 and trying Matching Computer's Guess\n",
      "To Quit Enter '0' or Invalid Guess\n",
      "********************\n",
      "Oops Wrong Guess. Try Again!!! [Hint: Guess Bigger]\n",
      "Oops Wrong Guess. Try Again!!! [Hint: Guess Bigger]\n",
      "Oops Wrong Guess. Try Again!!! [Hint: Guess Smaller]\n",
      "You Won !!! You Guessed it Right in 4 attempt(s)\n"
     ]
    }
   ],
   "source": [
    "import random\n",
    "\n",
    "print(\"*\"*20)\n",
    "print(\"Welcome to NumberGuessEr Game\")\n",
    "print(\"Rules >> Guess the Number between 1-9 and trying Matching Computer's Guess\")\n",
    "print(\"To Quit Enter '0' or Invalid Guess\")\n",
    "print(\"*\"*20)\n",
    "ranNum = random.randint(1,9)\n",
    "guessCounter = 1\n",
    "while True:\n",
    "    userGuess = int(input(\"Enter Guess:\"))\n",
    "    if userGuess<=0 or userGuess>9:\n",
    "        print(\"Thanks for Playing NumberGuessEr. You Tried But Failed.\")\n",
    "        break\n",
    "    else:\n",
    "        if ranNum==userGuess:\n",
    "            print(\"You Won !!! You Guessed it Right in {} attempt(s)\".format(guessCounter))\n",
    "            break\n",
    "        elif ranNum < userGuess:\n",
    "            print(\"Oops Wrong Guess. Try Again!!! [Hint: Guess Smaller]\")\n",
    "            guessCounter = guessCounter+1\n",
    "            continue\n",
    "        elif ranNum > userGuess:\n",
    "            print(\"Oops Wrong Guess. Try Again!!! [Hint: Guess Bigger]\")\n",
    "            guessCounter = guessCounter+1\n",
    "            continue"
   ]
  },
  {
   "cell_type": "code",
   "execution_count": 29,
   "metadata": {},
   "outputs": [],
   "source": [
    "#Write a program to accept a string from the user and display it vertically but don’t display the vowels in it.\n",
    "name = input(\"Enter Name\")\n",
    "len_name = 0\n",
    "while len_name != len(name):\n",
    "    if name[len_name] not in 'aeiouAEIOU':\n",
    "        print(name[len_name])\n",
    "    len_name=len_name+1"
   ]
  },
  {
   "cell_type": "code",
   "execution_count": 47,
   "metadata": {},
   "outputs": [
    {
     "name": "stdout",
     "output_type": "stream",
     "text": [
      "Your Total is 15\n"
     ]
    }
   ],
   "source": [
    "# Write a program to continuously accept integers from the user until the user types 0 and as soon as 0 is entered display sum of all the nos entered before 0\n",
    "# Note:Modify the previous code so that if the user inputs a negative integer , your program should ignore it .\n",
    "total = 0\n",
    "while True:\n",
    "    val = int(input(\"Enter Number:\"))\n",
    "    if val != 0:\n",
    "        if val < 0:\n",
    "            continue\n",
    "        else:\n",
    "            total = val + total\n",
    "    else:\n",
    "        print(\"Your Total is {}\".format(total))\n",
    "        break"
   ]
  },
  {
   "cell_type": "code",
   "execution_count": 50,
   "metadata": {},
   "outputs": [
    {
     "name": "stdout",
     "output_type": "stream",
     "text": [
      "55\n"
     ]
    }
   ],
   "source": [
    "#Write a program to accept an integer from the user and display the sum of all the numbers from 1 to that number.\n",
    "val = int(input(\"Enter Number: \"))\n",
    "total = (val * (val+1))/2\n",
    "print(int(total))"
   ]
  },
  {
   "cell_type": "code",
   "execution_count": 57,
   "metadata": {},
   "outputs": [
    {
     "name": "stdout",
     "output_type": "stream",
     "text": [
      "Factorial is 24\n"
     ]
    }
   ],
   "source": [
    "#Write a program to accept an integer from the user and calculate its factorial\n",
    "val = int(input(\"Enter Number:\"))\n",
    "fact=1\n",
    "while val>0:\n",
    "    fact = fact * val\n",
    "    val -= 1\n",
    "\n",
    "print(\"Factorial is {}\".format(fact))\n"
   ]
  },
  {
   "cell_type": "code",
   "execution_count": 59,
   "metadata": {},
   "outputs": [
    {
     "name": "stdout",
     "output_type": "stream",
     "text": [
      "* * * \n",
      "* * * \n",
      "* * * \n",
      "* * * \n"
     ]
    }
   ],
   "source": [
    "#Write a program to print the following pattern \n",
    "val = int(input(\"Enter Number of Rows:\"))\n",
    "while val>0:\n",
    "    print(\"* \"*3)\n",
    "    val-=1"
   ]
  },
  {
   "cell_type": "code",
   "execution_count": 62,
   "metadata": {},
   "outputs": [
    {
     "name": "stdout",
     "output_type": "stream",
     "text": [
      "* \n",
      "* * \n",
      "* * * \n",
      "* * * * \n",
      "* * * * * \n"
     ]
    }
   ],
   "source": [
    "#Write a program to print the following pattern \n",
    "val = int(input(\"Enter Number of Rows:\"))\n",
    "count=0\n",
    "while val>count:\n",
    "    count+=1\n",
    "    print(\"* \"*count)"
   ]
  },
  {
   "cell_type": "code",
   "execution_count": 65,
   "metadata": {},
   "outputs": [
    {
     "name": "stdout",
     "output_type": "stream",
     "text": [
      "* * * * \n",
      "* * * \n",
      "* * \n",
      "* \n"
     ]
    }
   ],
   "source": [
    "#Write a program to print the following pattern \n",
    "val = int(input(\"Enter Number of Rows:\"))\n",
    "while val>0:\n",
    "    print(\"* \"*val)\n",
    "    val-=1"
   ]
  },
  {
   "cell_type": "code",
   "execution_count": 71,
   "metadata": {},
   "outputs": [
    {
     "name": "stdout",
     "output_type": "stream",
     "text": [
      "1 \n",
      "\n",
      "1 2 3 4 \n",
      "\n",
      "1 2 3 4 5 6 7 8 9 10 11 12 13 14 15 16 17 18 19 20 21 22 23 \n",
      "\n",
      "1 2 3 4 5 6 7 8 9 10 11 12 13 14 15 16 17 18 19 20 21 22 23 24 25 26 27 28 29 30 31 32 33 34 35 36 37 38 39 40 41 42 43 44 45 46 47 48 49 50 51 52 53 54 55 56 57 58 59 60 61 62 63 64 65 66 \n",
      "\n"
     ]
    }
   ],
   "source": [
    "#Write a program to accept an integer from the user and display all the numbers from 1 to that number. Repeat the process until the user enters 0.\n",
    "\n",
    "while True:\n",
    "    count = 1\n",
    "    val = int(input(\"Enter Number: \"))\n",
    "    if val == 0:\n",
    "        break\n",
    "    else:\n",
    "        while count <= val:\n",
    "            print(count,end=\" \")\n",
    "            count += 1\n",
    "        print(\"\\n\")\n",
    "        continue"
   ]
  },
  {
   "cell_type": "code",
   "execution_count": null,
   "metadata": {},
   "outputs": [],
   "source": []
  }
 ],
 "metadata": {
  "kernelspec": {
   "display_name": "Python 3",
   "language": "python",
   "name": "python3"
  },
  "language_info": {
   "codemirror_mode": {
    "name": "ipython",
    "version": 3
   },
   "file_extension": ".py",
   "mimetype": "text/x-python",
   "name": "python",
   "nbconvert_exporter": "python",
   "pygments_lexer": "ipython3",
   "version": "3.9.1"
  },
  "orig_nbformat": 4,
  "vscode": {
   "interpreter": {
    "hash": "7f17c46cf3553b61eeb89052fbf916d1346ae953eb91bc236734ae64b262b896"
   }
  }
 },
 "nbformat": 4,
 "nbformat_minor": 2
}
